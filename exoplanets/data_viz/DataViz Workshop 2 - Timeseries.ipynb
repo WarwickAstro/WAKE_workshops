{
 "cells": [
  {
   "cell_type": "markdown",
   "metadata": {},
   "source": [
    "# Data Visualisation 2\n",
    "\n",
    "Key goals:\n",
    "\n",
    "* Learn some more advanced plotting techniques\n",
    "    - binning\n",
    "    - Style guide (matplotlib rc)\n",
    "    \n",
    "* Apply some basic transformations \n",
    "    - phase-folding\n",
    "\n",
    "* Get started with exoplanet models (i.e. transit models & RV models)\n",
    "\n",
    "* Create interactive plots with bokeh"
   ]
  },
  {
   "cell_type": "code",
   "execution_count": null,
   "metadata": {},
   "outputs": [],
   "source": []
  }
 ],
 "metadata": {
  "kernelspec": {
   "display_name": "Python 3",
   "language": "python",
   "name": "python3"
  },
  "language_info": {
   "codemirror_mode": {
    "name": "ipython",
    "version": 3
   },
   "file_extension": ".py",
   "mimetype": "text/x-python",
   "name": "python",
   "nbconvert_exporter": "python",
   "pygments_lexer": "ipython3",
   "version": "3.7.3"
  }
 },
 "nbformat": 4,
 "nbformat_minor": 2
}
