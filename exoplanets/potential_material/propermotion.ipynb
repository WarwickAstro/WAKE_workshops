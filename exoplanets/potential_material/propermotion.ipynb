{
 "cells": [
  {
   "cell_type": "code",
   "execution_count": 55,
   "metadata": {},
   "outputs": [
    {
     "name": "stdout",
     "output_type": "stream",
     "text": [
      "final value: 201.43775047747278 +- 0.020263454335655462\n"
     ]
    }
   ],
   "source": [
    "import numpy as np\n",
    "import math\n",
    "from math import sqrt\n",
    "\n",
    "pmra = 199.48263377244825\n",
    "pmdec = 27.997252376471966\n",
    "pmra_error = 0.018012716\n",
    "pmdec_error = 0.017451735\n",
    "\n",
    "#pmra = 5.3\n",
    "#pmdec = 15.4\n",
    "#pmra_error = 0.2\n",
    "#pmdec_error = 0.3\n",
    "\n",
    "X = (pmra_error/pmra) + (pmra_error/pmra)\n",
    "Y = X*(pmra**2)\n",
    "pmra_val = pmra**2\n",
    "pmra_uncertainty = Y\n",
    "\n",
    "F = (pmdec_error/pmdec) + (pmdec_error/pmdec)\n",
    "G = F*(pmdec**2)\n",
    "pmdec_val = pmdec**2\n",
    "pmdec_uncertainty = G\n",
    "\n",
    "#print(\"right ascension:\", pmra_val, \"+-\", pmra_uncertainty)\n",
    "#print(\"declination:\", pmdec_val, \"+-\", pmdec_uncertainty)\n",
    "\n",
    "Csq = (pmra_val + pmdec_val)\n",
    "errorsq = Y + G\n",
    "\n",
    "#print(\"Csquared:\", Csq, \"+-\", errorsq)\n",
    "\n",
    "fract_unc = (errorsq/Csq)\n",
    "newval = fract_unc/2\n",
    "#print(\"fractional uncertainty:\", fract_unc)\n",
    "#print(\"new value:\", newval)\n",
    "\n",
    "hypotenuse = sqrt(pmra**2 + pmdec**2)\n",
    "#print(hypotenuse)\n",
    "\n",
    "uncertainty = newval*hypotenuse\n",
    "#print(\"uncertainty:\", uncertainty)\n",
    "\n",
    "print(\"final value:\", hypotenuse, \"+-\", uncertainty)"
   ]
  },
  {
   "cell_type": "code",
   "execution_count": null,
   "metadata": {},
   "outputs": [],
   "source": []
  }
 ],
 "metadata": {
  "kernelspec": {
   "display_name": "Python 3",
   "language": "python",
   "name": "python3"
  },
  "language_info": {
   "codemirror_mode": {
    "name": "ipython",
    "version": 3
   },
   "file_extension": ".py",
   "mimetype": "text/x-python",
   "name": "python",
   "nbconvert_exporter": "python",
   "pygments_lexer": "ipython3",
   "version": "3.8.5"
  }
 },
 "nbformat": 4,
 "nbformat_minor": 4
}
