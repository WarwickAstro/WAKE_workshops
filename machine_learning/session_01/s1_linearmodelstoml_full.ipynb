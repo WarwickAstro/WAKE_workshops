{
 "cells": [
  {
   "cell_type": "markdown",
   "metadata": {
    "collapsed": true,
    "pycharm": {
     "name": "#%% md\n"
    }
   },
   "source": [
    "From linear models to machine learning\n",
    "===\n",
    "- Machine learning can be intimidating, but all of the most complex concepts can be broken down into single, less complex chunks. The complexity from ML techniques emerges when we take simple blocks and chain them together.\n",
    "- No technique embodies this more from neural networks - powerful universal function approximators, driving the current state of the art in ML.\n",
    "- Broken down to their simplest unit, the 'neuron', these networks are nothing more than combinations of simple non-linear units, with the emergent complexity coming from chaining arbitrary numbers of them together. This is not helped by current ML frameworks abstracting this away under `Layer` APIs and wrapping the entire training process under `model.fit()` or similar.\n",
    "\n",
    "- This notebook starts off in (hopefully) familiar territory of linear models (straight line fits), and builds on these to build simple neural networks from scratch.\n",
    "- We will use the [JAX]() linear algebra framework to power this, essentially `numpy`-like syntax, but with powerful automatic differentiation and compilation routines. This can provide C-level performance, but with the nice programming experience we're all familiar with\n",
    "\n",
    "In this notebook:\n",
    "- We will build and train from scratch a simple neural network, to demystify the process and build intuition for how such networks work, train, and classify.\n",
    "- We will apply this neural network to astronomical data.\n",
    "- Features, feature extraction, PCA"
   ],
   "outputs": []
  },
  {
   "cell_type": "code",
   "execution_count": 60,
   "outputs": [],
   "source": [
    "import jax\n",
    "jax.config.update(\"jax_enable_x64\", True)  # force JAX to use 64-bit mode\n",
    "jnp = jax.numpy\n",
    "\n",
    "# init our RNG key, for later.\n",
    "rng_key = jax.random.PRNGKey(42)\n",
    "\n",
    "import matplotlib.pyplot as plt"
   ],
   "metadata": {
    "collapsed": false,
    "pycharm": {
     "name": "#%%\n"
    }
   }
  },
  {
   "cell_type": "markdown",
   "source": [
    "Linear models\n",
    "---\n",
    "Let's start right at the beginning, with among the simplest statistical regression models that comes to mind.\n",
    "\n",
    "The first step is to generate a test dataset - see below:"
   ],
   "metadata": {
    "collapsed": false
   }
  },
  {
   "cell_type": "code",
   "execution_count": 61,
   "outputs": [
    {
     "data": {
      "text/plain": "<Figure size 432x288 with 1 Axes>",
      "image/png": "[encoded data removed]"
     },
     "metadata": {
      "needs_background": "light"
     },
     "output_type": "display_data"
    }
   ],
   "source": [
    "x = jnp.linspace(0, 10, 100)\n",
    "m_true = 1\n",
    "b_true = 0\n",
    "\n",
    "y_true = m_true * x + b_true\n",
    "y_obs = y_true + jax.random.normal(rng_key, shape=x.shape)\n",
    "\n",
    "plt.scatter(x, y_obs, c='k', s=5)\n",
    "plt.plot(x, y_true, c='r', ls='--')\n",
    "plt.xlabel(\"x\")\n",
    "plt.ylabel(\"y\")\n",
    "plt.show()"
   ],
   "metadata": {
    "collapsed": false,
    "pycharm": {
     "name": "#%%\n"
    }
   }
  },
  {
   "cell_type": "markdown",
   "source": [
    "Analytic solution\n",
    "---\n",
    "In the case of linear models, we're lucky that an analytic solution exists -- linear least squares.\n",
    "We can write the model above as a matrix equation.\n",
    "\n",
    "Note in the cells below, the `@` operator is infix notation to denote matrix multiplication. You can read `a @ b` as `np.matmul(a, b)` if it helps with understanding."
   ],
   "metadata": {
    "collapsed": false
   }
  },
  {
   "cell_type": "code",
   "execution_count": 62,
   "outputs": [],
   "source": [
    "design_matrix = jnp.array([jnp.ones_like(x), x]).T\n",
    "obs_matrix = y_obs[jnp.newaxis, :].T"
   ],
   "metadata": {
    "collapsed": false,
    "pycharm": {
     "name": "#%%\n"
    }
   }
  },
  {
   "cell_type": "code",
   "execution_count": 63,
   "outputs": [
    {
     "name": "stdout",
     "output_type": "stream",
     "text": [
      "0.205\n",
      "0.972\n"
     ]
    }
   ],
   "source": [
    "# Thankfully, there's a convenience function to compute this for us\n",
    "coeffs, _, _, _ = jnp.linalg.lstsq(design_matrix, obs_matrix)\n",
    "\n",
    "# Essentially this does the below under the hood - the `lstsq` function does things more cleverly to avoid singular matrices and speeds things up with Cholesky decomposition\n",
    "coeffs_handcoded = jnp.linalg.inv(design_matrix.T @ design_matrix) @ design_matrix.T @ obs_matrix\n",
    "\n",
    "for c in coeffs.flatten():\n",
    "    print(f\"{c:.3f}\")"
   ],
   "metadata": {
    "collapsed": false,
    "pycharm": {
     "name": "#%%\n"
    }
   }
  },
  {
   "cell_type": "markdown",
   "source": [
    "Some observations\n",
    "---\n",
    "- Note that we do not exactly recover the coefficients we put in (i.e. `m_true`, `b_true`) in the cell where we create the dataset. This is because we added noise, and least squares works on overdetermined problems."
   ],
   "metadata": {
    "collapsed": false
   }
  },
  {
   "cell_type": "markdown",
   "source": [
    "Numerical solution\n",
    "---\n",
    "- Sometimes we may not have linear solutions to our problems - i.e. in the most general case, any non-separable model is significantly more difficult to solve. Here we need to turn to iterative methods.\n",
    "\n",
    "- In the following section, we introduce a few concepts which we'll come back to continually through this workshop. Don't worry if you don't fully follow now, we'll come back to these and elaborate further."
   ],
   "metadata": {
    "collapsed": false
   }
  },
  {
   "cell_type": "code",
   "execution_count": 65,
   "outputs": [],
   "source": [
    "def linear_model(pars, x, y):\n",
    "    m, c = pars\n",
    "    return m*x + c\n",
    "\n",
    "def loss_function(pars: list, x: jnp.ndarray, y: jnp.ndarray):\n",
    "    y_model = linear_model(pars, x, y)\n",
    "    return jnp.mean(jnp.square(y - y_model))"
   ],
   "metadata": {
    "collapsed": false,
    "pycharm": {
     "name": "#%%\n"
    }
   }
  },
  {
   "cell_type": "markdown",
   "source": [
    "For this section, let's analytically compute the derivatives! Don't worry, this is just to show you what's going on - `JAX` can do this automatically for us going forward."
   ],
   "metadata": {
    "collapsed": false
   }
  },
  {
   "cell_type": "code",
   "execution_count": 69,
   "outputs": [],
   "source": [
    "def dloss_dm(pars, x, y):\n",
    "    m, c = pars\n",
    "    y_model = linear_model(pars, x, y)\n",
    "    return -2 * jnp.mean((y_obs - y_model)*x)\n",
    "\n",
    "def dloss_dc(pars, x, y):\n",
    "    m, c = pars\n",
    "    y_model = linear_model(pars, x, y)\n",
    "    return -2 * jnp.mean((y_obs - y_model))\n",
    "\n",
    "# to make this easier to follow, let's write a function that returns these as an array.\n",
    "def dloss_vec(pars, x, y):\n",
    "    dldm = dloss_dm(pars, x, y)\n",
    "    dldc = dloss_dc(pars, x, y)\n",
    "\n",
    "    return jnp.array([dldm, dldc])"
   ],
   "metadata": {
    "collapsed": false,
    "pycharm": {
     "name": "#%%\n"
    }
   }
  },
  {
   "cell_type": "markdown",
   "source": [
    "Gradient descent\n",
    "---\n",
    "- We now have a loss function, and gradients of it with respect to our parameters. Now to optimise the parameters using gradient descent."
   ],
   "metadata": {
    "collapsed": false
   }
  },
  {
   "cell_type": "code",
   "execution_count": 106,
   "outputs": [
    {
     "name": "stdout",
     "output_type": "stream",
     "text": [
      "0 steps: loss 25.197 / gradnorm: 57.724\n",
      "100 steps: loss 0.859 / gradnorm: 0.442\n",
      "200 steps: loss 0.841 / gradnorm: 0.418\n",
      "300 steps: loss 0.824 / gradnorm: 0.398\n",
      "400 steps: loss 0.809 / gradnorm: 0.379\n",
      "500 steps: loss 0.796 / gradnorm: 0.360\n",
      "600 steps: loss 0.783 / gradnorm: 0.343\n",
      "700 steps: loss 0.772 / gradnorm: 0.326\n",
      "800 steps: loss 0.762 / gradnorm: 0.310\n",
      "900 steps: loss 0.753 / gradnorm: 0.295\n",
      "1000 steps: loss 0.744 / gradnorm: 0.281\n",
      "1100 steps: loss 0.737 / gradnorm: 0.268\n",
      "1200 steps: loss 0.730 / gradnorm: 0.255\n",
      "1300 steps: loss 0.724 / gradnorm: 0.242\n",
      "1400 steps: loss 0.718 / gradnorm: 0.231\n",
      "1500 steps: loss 0.713 / gradnorm: 0.219\n",
      "1600 steps: loss 0.709 / gradnorm: 0.209\n",
      "1700 steps: loss 0.705 / gradnorm: 0.199\n",
      "1800 steps: loss 0.701 / gradnorm: 0.189\n",
      "1900 steps: loss 0.697 / gradnorm: 0.180\n",
      "2000 steps: loss 0.694 / gradnorm: 0.171\n",
      "2100 steps: loss 0.692 / gradnorm: 0.163\n",
      "2200 steps: loss 0.689 / gradnorm: 0.155\n",
      "2300 steps: loss 0.687 / gradnorm: 0.147\n",
      "2400 steps: loss 0.685 / gradnorm: 0.140\n",
      "2500 steps: loss 0.683 / gradnorm: 0.133\n",
      "2600 steps: loss 0.681 / gradnorm: 0.127\n",
      "2700 steps: loss 0.680 / gradnorm: 0.121\n",
      "2800 steps: loss 0.678 / gradnorm: 0.115\n",
      "2900 steps: loss 0.677 / gradnorm: 0.109\n"
     ]
    }
   ],
   "source": [
    "m_init = 0\n",
    "c_init = 1\n",
    "init_pars = jnp.array([m_init, c_init])\n",
    "_pars = init_pars\n",
    "\n",
    "eta = 1e-3\n",
    "n_optimisation_steps = 3000\n",
    "\n",
    "loss_arr = jnp.zeros(n_optimisation_steps)\n",
    "grad_arr = jnp.zeros(n_optimisation_steps)\n",
    "\n",
    "for n in range(n_optimisation_steps):\n",
    "    _loss = loss_function(_pars, x, y_obs)\n",
    "    loss_arr = loss_arr.at[n].set(_loss)\n",
    "\n",
    "    _loss_grads = dloss_vec(_pars, x, y_obs)\n",
    "    grad_arr = grad_arr.at[n].set(jnp.linalg.norm(_loss_grads))\n",
    "    _pars -= eta * _loss_grads\n",
    "\n",
    "    if not (n % 100):\n",
    "        print(f\"{n} steps: loss {_loss:.3f} / gradnorm: {jnp.linalg.norm(_loss_grads):.3f}\")"
   ],
   "metadata": {
    "collapsed": false,
    "pycharm": {
     "name": "#%%\n"
    }
   }
  },
  {
   "cell_type": "code",
   "execution_count": 105,
   "outputs": [
    {
     "data": {
      "text/plain": "<Figure size 432x288 with 1 Axes>",
      "image/png": "[encoded data removed]"
     },
     "metadata": {
      "needs_background": "light"
     },
     "output_type": "display_data"
    }
   ],
   "source": [
    "analytic_loss = loss_function([m_true, b_true], x, y_obs)\n",
    "\n",
    "plt.plot(loss_arr, label='Mean-squared error')\n",
    "plt.plot(grad_arr, ls='--', label='|dL/dPars|')\n",
    "plt.xlabel(\"Steps\")\n",
    "plt.ylabel(\"Loss\")\n",
    "plt.axhline(analytic_loss)\n",
    "plt.xscale(\"log\")\n",
    "plt.yscale(\"log\")\n",
    "plt.legend()\n",
    "plt.show()"
   ],
   "metadata": {
    "collapsed": false,
    "pycharm": {
     "name": "#%%\n"
    }
   }
  },
  {
   "cell_type": "code",
   "execution_count": 98,
   "outputs": [],
   "source": [],
   "metadata": {
    "collapsed": false,
    "pycharm": {
     "name": "#%%\n"
    }
   }
  },
  {
   "cell_type": "code",
   "execution_count": 98,
   "outputs": [],
   "source": [],
   "metadata": {
    "collapsed": false,
    "pycharm": {
     "name": "#%%\n"
    }
   }
  },
  {
   "cell_type": "code",
   "execution_count": null,
   "outputs": [],
   "source": [],
   "metadata": {
    "collapsed": false,
    "pycharm": {
     "name": "#%%\n"
    }
   }
  }
 ],
 "metadata": {
  "kernelspec": {
   "display_name": "Python 3",
   "language": "python",
   "name": "python3"
  },
  "language_info": {
   "codemirror_mode": {
    "name": "ipython",
    "version": 2
   },
   "file_extension": ".py",
   "mimetype": "text/x-python",
   "name": "python",
   "nbconvert_exporter": "python",
   "pygments_lexer": "ipython2",
   "version": "2.7.6"
  }
 },
 "nbformat": 4,
 "nbformat_minor": 0
}