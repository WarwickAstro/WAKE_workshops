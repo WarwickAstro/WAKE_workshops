{
 "cells": [
  {
   "cell_type": "markdown",
   "metadata": {
    "collapsed": true,
    "pycharm": {
     "name": "#%% md\n"
    }
   },
   "source": [
    "From linear models to machine learning\n",
    "===\n",
    "- Machine learning can be intimidating, but all of the most complex concepts can be broken down into single, less complex chunks. The complexity from ML techniques emerges when we take simple blocks and chain them together.\n",
    "- No technique embodies this more from neural networks - powerful universal function approximators, driving the current state of the art in ML.\n",
    "- Broken down to their simplest unit, the 'neuron', these networks are nothing more than combinations of simple non-linear units, with the emergent complexity coming from chaining arbitrary numbers of them together. This is not helped by current ML frameworks abstracting this away under `Layer` APIs and wrapping the entire training process under `model.fit()` or similar.\n",
    "\n",
    "- This notebook starts off in (hopefully) familiar territory of linear models (straight line fits), and builds on these to build simple neural networks from scratch.\n",
    "- We will use the [JAX]() linear algebra framework to power this, essentially `numpy`-like syntax, but with powerful automatic differentiation and compilation routines. This can provide C-level performance, but with the nice programming experience we're all familiar with\n",
    "\n",
    "In this notebook:\n",
    "- We will build and train from scratch a simple neural network, to demystify the process and build intuition for how such networks work, train, and classify.\n",
    "- We will apply this neural network to astronomical data.\n",
    "- Features, feature extraction, PCA"
   ],
   "outputs": []
  },
  {
   "cell_type": "code",
   "execution_count": 60,
   "outputs": [],
   "source": [
    "import jax\n",
    "jax.config.update(\"jax_enable_x64\", True)  # force JAX to use 64-bit mode\n",
    "jnp = jax.numpy\n",
    "\n",
    "# init our RNG key, for later.\n",
    "rng_key = jax.random.PRNGKey(42)\n",
    "\n",
    "import matplotlib.pyplot as plt"
   ],
   "metadata": {
    "collapsed": false,
    "pycharm": {
     "name": "#%%\n"
    }
   }
  },
  {
   "cell_type": "markdown",
   "source": [
    "Linear models\n",
    "---\n",
    "Let's start right at the beginning, with among the simplest statistical regression models that comes to mind.\n",
    "\n",
    "The first step is to generate a test dataset - see below:"
   ],
   "metadata": {
    "collapsed": false
   }
  },
  {
   "cell_type": "code",
   "execution_count": 141,
   "outputs": [
    {
     "data": {
      "text/plain": "<Figure size 432x288 with 1 Axes>",
      "image/png": "[encoded data removed]"
     },
     "metadata": {
      "needs_background": "light"
     },
     "output_type": "display_data"
    }
   ],
   "source": [
    "x = jnp.linspace(0, 20, 100)\n",
    "m_true = 1\n",
    "b_true = 0\n",
    "\n",
    "y_true = m_true * x + b_true\n",
    "y_obs = y_true + jax.random.normal(rng_key, shape=x.shape)\n",
    "\n",
    "plt.scatter(x, y_obs, c='k', s=5)\n",
    "plt.plot(x, y_true, c='r', ls='--')\n",
    "plt.xlabel(\"x\")\n",
    "plt.ylabel(\"y\")\n",
    "plt.show()"
   ],
   "metadata": {
    "collapsed": false,
    "pycharm": {
     "name": "#%%\n"
    }
   }
  },
  {
   "cell_type": "markdown",
   "source": [
    "Analytic solution (linear least squares)\n",
    "---\n",
    "In the case of linear models, we're lucky that an analytic solution exists -- linear least squares.\n",
    "We can write the model above as a matrix equation.\n",
    "\n",
    "$$ \\bf{A}x = \\bf{b}$$\n",
    "where $A$ is the 'design' matrix, and takes the form\n",
    "$$ \\begin{pmatrix}1 & x_0 \\\\1 & x_1 \\\\1 & x_2 \\\\\\vdots & \\vdots \\\\1 & x_n \\\\\\end{pmatrix}$$\n",
    "and the values of $b$ represent the y-values of our points.\n",
    "$x$ is what we are solving for, and contains the coefficients which when multiplied with $A$ minimise $||Ax - b||$, where $|| ||$ denotes the squared mean.\n",
    "\n",
    "Note in the cells below, the `@` operator is infix notation to denote matrix multiplication. You can read `a @ b` as `np.matmul(a, b)` if it helps with understanding."
   ],
   "metadata": {
    "collapsed": false
   }
  },
  {
   "cell_type": "code",
   "execution_count": 62,
   "outputs": [],
   "source": [
    "design_matrix = jnp.array([jnp.ones_like(x), x]).T\n",
    "obs_matrix = y_obs[jnp.newaxis, :].T"
   ],
   "metadata": {
    "collapsed": false,
    "pycharm": {
     "name": "#%%\n"
    }
   }
  },
  {
   "cell_type": "code",
   "execution_count": 63,
   "outputs": [
    {
     "name": "stdout",
     "output_type": "stream",
     "text": [
      "0.205\n",
      "0.972\n"
     ]
    }
   ],
   "source": [
    "# Thankfully, there's a convenience function to compute this for us\n",
    "coeffs, _, _, _ = jnp.linalg.lstsq(design_matrix, obs_matrix)\n",
    "\n",
    "# Essentially this does the below under the hood - the `lstsq` function does things more cleverly to avoid singular matrices and speeds things up with Cholesky decomposition\n",
    "coeffs_handcoded = jnp.linalg.inv(design_matrix.T @ design_matrix) @ design_matrix.T @ obs_matrix\n",
    "\n",
    "for c in coeffs.flatten():\n",
    "    print(f\"{c:.3f}\")"
   ],
   "metadata": {
    "collapsed": false,
    "pycharm": {
     "name": "#%%\n"
    }
   }
  },
  {
   "cell_type": "markdown",
   "source": [
    "Some observations\n",
    "---\n",
    "- Note that we do not exactly recover the coefficients we put in (i.e. `m_true`, `b_true`) in the cell where we create the dataset. This is because we added noise, and least squares does not recover a unique set of coefficients, only those that minimise the Euclidean norm of the residuals."
   ],
   "metadata": {
    "collapsed": false
   }
  },
  {
   "cell_type": "markdown",
   "source": [
    "Numerical solution\n",
    "---\n",
    "- Sometimes we may not have linear solutions to our problems - i.e. in the most general case, any non-separable model is significantly more difficult to solve. Here we need to turn to iterative methods.\n",
    "\n",
    "- In the following section, we introduce a few concepts which we'll come back to continually through this workshop. Don't worry if you don't fully follow now, we'll come back to these and elaborate further.\n",
    "\n",
    "<div class=\"alert alert-block alert-info\">\n",
    "<b>Loss function</b>\n",
    "\n",
    "The loss function is a general concept in machine learning, and evaluates how well a given model's predictions correspond to the dataset it is trying to approximate. Generally, the lower the value of the loss function, the better the fit. This is also known as the cost function or error function.\n",
    "As astronomers, you're likely already familiar with one cost function: the chi-squared statistic. This function takes a specific set of parameters, makes a model prediction, and compares this to some input data to compute the 'goodness of fit'. By minimising the 'cost', we find the best-fitting parameters.\n",
    "The chi-squared statistic has a close relative in the ML literature: the L2 or mean-squared error loss. This can be written as\n",
    "$$ \\mathcal{L} = \\frac{1}{N} \\sum_{i=1}^{N} (y_i - \\hat{y}_i)^2 $$\n",
    "where $y_i$ is the ith datapoint, and $\\hat{y}_i$ is the model's prediction for the ith datapoint.\n",
    "We will implement the mean squared error loss below, but there are many more loss functions, including for classification tasks, which we will come to later.\n",
    "</div>"
   ],
   "metadata": {
    "collapsed": false
   }
  },
  {
   "cell_type": "code",
   "execution_count": 65,
   "outputs": [],
   "source": [
    "def linear_model(pars, x, y):\n",
    "    m, c = pars\n",
    "    return m*x + c\n",
    "\n",
    "def loss_function(pars: list, x: jnp.ndarray, y: jnp.ndarray):\n",
    "    y_model = linear_model(pars, x, y)\n",
    "    return jnp.mean(jnp.square(y - y_model))"
   ],
   "metadata": {
    "collapsed": false,
    "pycharm": {
     "name": "#%%\n"
    }
   }
  },
  {
   "cell_type": "markdown",
   "source": [
    "For this section, let's analytically compute the derivatives! Don't worry, this is just to show you what's going on - `JAX` can do this automatically for us going forward."
   ],
   "metadata": {
    "collapsed": false
   }
  },
  {
   "cell_type": "code",
   "execution_count": 118,
   "outputs": [],
   "source": [
    "def dloss_dm(pars, x, y):\n",
    "    m, c = pars\n",
    "    y_model = linear_model(pars, x, y)\n",
    "    return -2 * jnp.mean((y - y_model)*x)\n",
    "\n",
    "def dloss_dc(pars, x, y):\n",
    "    m, c = pars\n",
    "    y_model = linear_model(pars, x, y)\n",
    "    return -2 * jnp.mean((y - y_model))\n",
    "\n",
    "# to make this easier to follow, let's write a function that returns these as an array.\n",
    "def dloss_vec(pars, x, y):\n",
    "    dldm = dloss_dm(pars, x, y)\n",
    "    dldc = dloss_dc(pars, x, y)\n",
    "\n",
    "    return jnp.array([dldm, dldc])"
   ],
   "metadata": {
    "collapsed": false,
    "pycharm": {
     "name": "#%%\n"
    }
   }
  },
  {
   "cell_type": "markdown",
   "source": [
    "Gradient descent\n",
    "---\n",
    "- We now have a loss function, and gradients of it with respect to our parameters. Now to optimise the parameters using gradient descent.\n",
    "\n",
    "<div class=\"alert alert-block alert-info\">\n",
    "<b>Gradient descent</b>\n",
    "\n",
    "Gradient descent is a first-order (in gradient) optimisation technique used to minimise functions.\n",
    "\n",
    "At each iteration $i$, the next position is computed according to the following update rule:\n",
    "$$ x_{i+1} = x_{i} - \\eta \\nabla f(x_{i})$$\n",
    "where $\\eta$ is a dimensionless quantity known as the 'learning rate', which controls the size of the steps taken, and $\\nabla f(x_{i})$ is the gradient of $f$ with respect to $x$ at the current timestep.\n",
    "</div>\n",
    "\n",
    "- See the gradient descent notebook for a fuller description of gradient descent, along with more complex discussion of the steps below"
   ],
   "metadata": {
    "collapsed": false
   }
  },
  {
   "cell_type": "code",
   "execution_count": 125,
   "outputs": [
    {
     "name": "stdout",
     "output_type": "stream",
     "text": [
      "0 steps: loss 25.197 / gradnorm: 57.724\n",
      "100 steps: loss 0.859 / gradnorm: 0.442\n",
      "200 steps: loss 0.841 / gradnorm: 0.418\n",
      "300 steps: loss 0.824 / gradnorm: 0.398\n",
      "400 steps: loss 0.809 / gradnorm: 0.379\n",
      "500 steps: loss 0.796 / gradnorm: 0.360\n",
      "600 steps: loss 0.783 / gradnorm: 0.343\n",
      "700 steps: loss 0.772 / gradnorm: 0.326\n",
      "800 steps: loss 0.762 / gradnorm: 0.310\n",
      "900 steps: loss 0.753 / gradnorm: 0.295\n",
      "1000 steps: loss 0.744 / gradnorm: 0.281\n",
      "1100 steps: loss 0.737 / gradnorm: 0.268\n",
      "1200 steps: loss 0.730 / gradnorm: 0.255\n",
      "1300 steps: loss 0.724 / gradnorm: 0.242\n",
      "1400 steps: loss 0.718 / gradnorm: 0.231\n",
      "1500 steps: loss 0.713 / gradnorm: 0.219\n",
      "1600 steps: loss 0.709 / gradnorm: 0.209\n",
      "1700 steps: loss 0.705 / gradnorm: 0.199\n",
      "1800 steps: loss 0.701 / gradnorm: 0.189\n",
      "1900 steps: loss 0.697 / gradnorm: 0.180\n",
      "2000 steps: loss 0.694 / gradnorm: 0.171\n",
      "2100 steps: loss 0.692 / gradnorm: 0.163\n",
      "2200 steps: loss 0.689 / gradnorm: 0.155\n",
      "2300 steps: loss 0.687 / gradnorm: 0.147\n",
      "2400 steps: loss 0.685 / gradnorm: 0.140\n",
      "2500 steps: loss 0.683 / gradnorm: 0.133\n",
      "2600 steps: loss 0.681 / gradnorm: 0.127\n",
      "2700 steps: loss 0.680 / gradnorm: 0.121\n",
      "2800 steps: loss 0.678 / gradnorm: 0.115\n",
      "2900 steps: loss 0.677 / gradnorm: 0.109\n"
     ]
    }
   ],
   "source": [
    "m_init = 0\n",
    "c_init = 1\n",
    "init_pars = jnp.array([m_init, c_init])\n",
    "_pars = init_pars\n",
    "\n",
    "eta = 1e-3\n",
    "n_optimisation_steps = 3000\n",
    "\n",
    "loss_arr = jnp.zeros(n_optimisation_steps)\n",
    "grad_arr = jnp.zeros(n_optimisation_steps)\n",
    "\n",
    "for n in range(n_optimisation_steps):\n",
    "    _loss = loss_function(_pars, x, y_obs)\n",
    "    loss_arr = loss_arr.at[n].set(_loss)\n",
    "\n",
    "    _loss_grads = dloss_vec(_pars, x, y_obs)\n",
    "    grad_arr = grad_arr.at[n].set(jnp.linalg.norm(_loss_grads))\n",
    "    _pars -= eta * _loss_grads\n",
    "\n",
    "    if not (n % 100):\n",
    "        print(f\"{n} steps: loss {_loss:.3f} / gradnorm: {jnp.linalg.norm(_loss_grads):.3f}\")"
   ],
   "metadata": {
    "collapsed": false,
    "pycharm": {
     "name": "#%%\n"
    }
   }
  },
  {
   "cell_type": "code",
   "execution_count": 126,
   "outputs": [
    {
     "data": {
      "text/plain": "<Figure size 432x288 with 1 Axes>",
      "image/png": "[encoded data removed]"
     },
     "metadata": {
      "needs_background": "light"
     },
     "output_type": "display_data"
    }
   ],
   "source": [
    "analytic_loss = loss_function([m_true, b_true], x, y_obs)\n",
    "\n",
    "plt.plot(loss_arr, label='Mean-squared error')\n",
    "plt.plot(grad_arr, ls='--', label='|dL/dPars|')\n",
    "plt.xlabel(\"Steps\")\n",
    "plt.ylabel(\"Loss\")\n",
    "plt.axhline(analytic_loss)\n",
    "plt.xscale(\"log\")\n",
    "plt.yscale(\"log\")\n",
    "plt.legend()\n",
    "plt.show()"
   ],
   "metadata": {
    "collapsed": false,
    "pycharm": {
     "name": "#%%\n"
    }
   }
  },
  {
   "cell_type": "markdown",
   "source": [
    "Stochastic gradient descent\n",
    "---\n",
    "- What happens when our model/data is big?\n",
    "\n",
    "- Inverting a matrix (as required for least squares in the $(X^T X)^{-1}$ step) has algorithmic complexity of $O(N^3)$ - this means that if we double the number of matrix elements $N$, the computational time/number of operations is multiplied by 8! This quickly becomes an issue for linear models with large numbers of datapoints or numbers of regressors.\n",
    "- Similarly, in the case of large datasets, we have to compute gradients and losses for large numbers of points.\n",
    "\n",
    "- We can use stochastic gradient descent, computing our losses and gradients using a **subsample** of points."
   ],
   "metadata": {
    "collapsed": false,
    "pycharm": {
     "name": "#%% md\n"
    }
   }
  },
  {
   "cell_type": "code",
   "execution_count": 127,
   "outputs": [
    {
     "name": "stdout",
     "output_type": "stream",
     "text": [
      "0 steps: loss 24.353 / gradnorm: 53.632\n",
      "100 steps: loss 0.930 / gradnorm: 1.146\n",
      "200 steps: loss 0.776 / gradnorm: 2.319\n",
      "300 steps: loss 1.121 / gradnorm: 4.346\n",
      "400 steps: loss 0.705 / gradnorm: 0.655\n",
      "500 steps: loss 0.650 / gradnorm: 1.246\n",
      "600 steps: loss 0.419 / gradnorm: 2.979\n",
      "700 steps: loss 0.926 / gradnorm: 2.066\n",
      "800 steps: loss 0.551 / gradnorm: 0.416\n",
      "900 steps: loss 0.450 / gradnorm: 2.094\n",
      "1000 steps: loss 0.515 / gradnorm: 1.048\n",
      "1100 steps: loss 0.798 / gradnorm: 2.210\n",
      "1200 steps: loss 0.692 / gradnorm: 2.007\n",
      "1300 steps: loss 0.600 / gradnorm: 0.399\n",
      "1400 steps: loss 0.594 / gradnorm: 1.494\n",
      "1500 steps: loss 0.895 / gradnorm: 2.908\n",
      "1600 steps: loss 0.669 / gradnorm: 0.178\n",
      "1700 steps: loss 0.842 / gradnorm: 2.048\n",
      "1800 steps: loss 0.636 / gradnorm: 0.971\n",
      "1900 steps: loss 0.818 / gradnorm: 0.754\n",
      "2000 steps: loss 0.617 / gradnorm: 1.457\n",
      "2100 steps: loss 0.578 / gradnorm: 1.081\n",
      "2200 steps: loss 0.643 / gradnorm: 3.417\n",
      "2300 steps: loss 0.773 / gradnorm: 1.316\n",
      "2400 steps: loss 0.785 / gradnorm: 1.447\n",
      "2500 steps: loss 0.409 / gradnorm: 0.988\n",
      "2600 steps: loss 0.507 / gradnorm: 2.095\n",
      "2700 steps: loss 0.845 / gradnorm: 0.916\n",
      "2800 steps: loss 0.315 / gradnorm: 0.371\n",
      "2900 steps: loss 0.364 / gradnorm: 0.538\n"
     ]
    }
   ],
   "source": [
    "m_init = 0\n",
    "c_init = 1\n",
    "init_pars = jnp.array([m_init, c_init])\n",
    "_pars = init_pars\n",
    "\n",
    "eta = 1e-3\n",
    "n_optimisation_steps = 3000\n",
    "batch_size = 16\n",
    "\n",
    "# because of how JAX randomness works, declare a key here for this cell.\n",
    "sgd_rng_key = jax.random.PRNGKey(42)\n",
    "dataset_idxs = jnp.arange(len(x))\n",
    "\n",
    "loss_arr_stoch = jnp.zeros(n_optimisation_steps)\n",
    "grad_arr_stoch = jnp.zeros(n_optimisation_steps)\n",
    "\n",
    "for n in range(n_optimisation_steps):\n",
    "\n",
    "    x_batch = jax.random.choice(sgd_rng_key, x, shape=(batch_size, ))\n",
    "    y_batch = jax.random.choice(sgd_rng_key, y_obs, shape=(batch_size, ))\n",
    "    _, sgd_rng_key = jax.random.split(sgd_rng_key)\n",
    "\n",
    "    _loss_stoch = loss_function(_pars, x_batch, y_batch)\n",
    "    loss_arr_stoch = loss_arr_stoch.at[n].set(_loss_stoch)\n",
    "\n",
    "    _loss_grads_stoch = dloss_vec(_pars, x_batch, y_batch)\n",
    "    grad_arr_stoch = grad_arr_stoch.at[n].set(jnp.linalg.norm(_loss_grads_stoch))\n",
    "    _pars -= eta * _loss_grads_stoch\n",
    "\n",
    "    if not (n % 100):\n",
    "        print(f\"{n} steps: loss {_loss_stoch:.3f} / gradnorm: {jnp.linalg.norm(_loss_grads_stoch):.3f}\")"
   ],
   "metadata": {
    "collapsed": false,
    "pycharm": {
     "name": "#%%\n"
    }
   }
  },
  {
   "cell_type": "code",
   "execution_count": 142,
   "outputs": [
    {
     "data": {
      "text/plain": "<Figure size 432x288 with 1 Axes>",
      "image/png": "[encoded data removed]"
     },
     "metadata": {
      "needs_background": "light"
     },
     "output_type": "display_data"
    },
    {
     "data": {
      "text/plain": "<Figure size 432x288 with 1 Axes>",
      "image/png": "[encoded data removed]"
     },
     "metadata": {
      "needs_background": "light"
     },
     "output_type": "display_data"
    }
   ],
   "source": [
    "analytic_loss = loss_function([m_true, b_true], x, y_obs)\n",
    "\n",
    "plt.plot(loss_arr_stoch, label='Mean-squared error')\n",
    "plt.plot(grad_arr_stoch, ls='--', label='|dL/dPars|')\n",
    "plt.xlabel(\"Steps\")\n",
    "plt.ylabel(\"Loss\")\n",
    "plt.axhline(analytic_loss)\n",
    "plt.xscale(\"log\")\n",
    "plt.yscale(\"log\")\n",
    "plt.legend()\n",
    "plt.show()\n",
    "\n",
    "plt.plot(loss_arr, zorder=20, lw=2, label='GD')\n",
    "plt.plot(loss_arr_stoch, label='SGD')\n",
    "plt.xscale(\"log\")\n",
    "plt.yscale(\"log\")\n",
    "plt.xlabel(\"Steps\")\n",
    "plt.ylabel(\"Loss\")\n",
    "plt.legend()\n",
    "plt.title(\"Gradient descent vs. stochastic GD\")\n",
    "plt.show()"
   ],
   "metadata": {
    "collapsed": false,
    "pycharm": {
     "name": "#%%\n"
    }
   }
  },
  {
   "cell_type": "markdown",
   "source": [
    "So what does all of this have to do with machine learning?\n",
    "---\n",
    "- With this diversion we've covered how to build a (linear) model, choosing a loss function, optimising said loss function using stochastic gradient descent, and why we might want to do this.\n",
    "- The next chunk of the notebook focuses on how we bridge from these basic linear models to building neural networks.\n",
    "\n",
    "- In a sense we've already written the most basic neural network - it's just missing what we call an 'activation function' to make it non-linear. Below let's create the simplest possible unit of a neural network - the neuron"
   ],
   "metadata": {
    "collapsed": false
   }
  },
  {
   "cell_type": "code",
   "execution_count": 143,
   "outputs": [],
   "source": [],
   "metadata": {
    "collapsed": false,
    "pycharm": {
     "name": "#%%\n"
    }
   }
  },
  {
   "cell_type": "markdown",
   "source": [
    "The neuron\n",
    "---\n",
    "- Neurons are the simplest possible unit of a fully-connected neural network. They look very similar to the linear model we just created - the terminology is slightly different but the principles are the same.\n",
    "- Neurons take inputs, multiply them by a weight and sum, apply a bias term, and then 'rectify' the output using an 'activation function'\n",
    "- Our linear models take inputs, multiply them by coefficients (the 'slopes' $m_i$), add a bias term (the 'intercepts' $b_i$), and sum this to get the output variable.\n",
    "\n",
    "Mathematically, we can write the 'forward pass' as:\n",
    "$ z_j = \\sum_{k} w_{jk} y^{in}_{k} + b_{j}$\n",
    "$ y^{out}_{j} = f(z_j)$\n",
    "where $k$ represents the number of inputs, and $j$ represents the number of outputs\n",
    "\n",
    "Below I define a simple Python class to implement this. If you aren't familiar with Python classes don't worry, I've added annotations below to help with your understanding. Python classes provide a nice way to manage _state_, and define methods to operate on class attributes."
   ],
   "metadata": {
    "collapsed": false,
    "pycharm": {
     "name": "#%% md\n"
    }
   }
  },
  {
   "cell_type": "code",
   "execution_count": 189,
   "outputs": [],
   "source": [
    "no_activation = lambda z_in: z_in\n",
    "\n",
    "class NeuronLayer:\n",
    "    # the `__init__` method creates the Neuron.\n",
    "    def __init__(self, input_size, output_size, activation_function=None):\n",
    "        self.weights = jnp.ones((output_size, input_size))\n",
    "        self.bias = jnp.ones(output_size)\n",
    "        self.activation_function = activation_function if activation_function is not None else no_activation\n",
    "\n",
    "    def forward_pass(self, inputs):\n",
    "        z = self.weights @ inputs + self.bias\n",
    "        return self.activation_function(z)\n",
    "\n",
    "    def __call__(self, inputs):\n",
    "        return self.forward_pass(inputs=inputs)"
   ],
   "metadata": {
    "collapsed": false,
    "pycharm": {
     "name": "#%%\n"
    }
   }
  },
  {
   "cell_type": "code",
   "execution_count": 190,
   "outputs": [
    {
     "name": "stdout",
     "output_type": "stream",
     "text": [
      "[1] [1.]\n"
     ]
    }
   ],
   "source": [
    "_neuron = NeuronLayer(input_size=1, output_size=1)\n",
    "x_in = jnp.array([1])\n",
    "y_out = _neuron(x_in)\n",
    "\n",
    "# change the bias to 0 to recover our linear model\n",
    "_neuron.bias = jnp.array([0])\n",
    "print(x_in, _neuron(x_in))"
   ],
   "metadata": {
    "collapsed": false,
    "pycharm": {
     "name": "#%%\n"
    }
   }
  },
  {
   "cell_type": "code",
   "execution_count": 190,
   "outputs": [],
   "source": [],
   "metadata": {
    "collapsed": false,
    "pycharm": {
     "name": "#%%\n"
    }
   }
  },
  {
   "cell_type": "markdown",
   "source": [
    "Hidden layers\n",
    "---\n",
    "Now let's build a fully-fledged neural network!"
   ],
   "metadata": {
    "collapsed": false,
    "pycharm": {
     "name": "#%% md\n"
    }
   }
  },
  {
   "cell_type": "code",
   "execution_count": 221,
   "outputs": [],
   "source": [
    "class NeuralNetwork:\n",
    "    def __init__(self, input_size, hidden_layer_neurons, output_size):\n",
    "        self.layers = [NeuronLayer(input_size=input_size, output_size=hidden_layer_neurons), NeuronLayer(input_size=hidden_layer_neurons, output_size=output_size)]\n",
    "        self.weights = [layer.weights for layer in self.layers]\n",
    "        self.biases = [layer.bias for layer in self.layers]\n",
    "\n",
    "    def forward_pass(self, inputs):\n",
    "        _y_out = inputs\n",
    "        for layer in self.layers:\n",
    "            _y_out = layer(_y_out)\n",
    "        return _y_out\n",
    "\n",
    "    def __call__(self, inputs):\n",
    "        return self.forward_pass(inputs)\n",
    "\n",
    "    def compute_loss(self, inputs):\n",
    "        return jnp.mean(jnp.square(self.forward_pass(inputs)))\n",
    "\n",
    "def feed_forward_loss(inputs, outputs, activation_func, weights, biases):\n",
    "    _yout = inputs\n",
    "    for w, b in zip(weights, biases):\n",
    "        _yout = w @ _yout + b\n",
    "        _yout = activation_func(_yout)\n",
    "\n",
    "    return jnp.mean(jnp.square(_yout - outputs))\n",
    "\n",
    "val_and_grad = jax.value_and_grad(feed_forward_loss, argnums=(3, 4))"
   ],
   "metadata": {
    "collapsed": false,
    "pycharm": {
     "name": "#%%\n"
    }
   }
  },
  {
   "cell_type": "code",
   "execution_count": 214,
   "outputs": [],
   "source": [
    "nn = NeuralNetwork(input_size=1, hidden_layer_neurons=30, output_size=1)\n",
    "\n",
    "grad_loss = jax.value_and_grad(nn.compute_loss)"
   ],
   "metadata": {
    "collapsed": false,
    "pycharm": {
     "name": "#%%\n"
    }
   }
  },
  {
   "cell_type": "code",
   "execution_count": 226,
   "outputs": [],
   "source": [
    "value, grads = val_and_grad(jnp.array([0]), jnp.array([0]), no_activation, nn.weights, nn.biases)"
   ],
   "metadata": {
    "collapsed": false,
    "pycharm": {
     "name": "#%%\n"
    }
   }
  },
  {
   "cell_type": "code",
   "execution_count": 231,
   "outputs": [],
   "source": [],
   "metadata": {
    "collapsed": false,
    "pycharm": {
     "name": "#%%\n"
    }
   }
  },
  {
   "cell_type": "code",
   "execution_count": null,
   "outputs": [],
   "source": [],
   "metadata": {
    "collapsed": false,
    "pycharm": {
     "name": "#%%\n"
    }
   }
  }
 ],
 "metadata": {
  "kernelspec": {
   "display_name": "Python 3",
   "language": "python",
   "name": "python3"
  },
  "language_info": {
   "codemirror_mode": {
    "name": "ipython",
    "version": 2
   },
   "file_extension": ".py",
   "mimetype": "text/x-python",
   "name": "python",
   "nbconvert_exporter": "python",
   "pygments_lexer": "ipython2",
   "version": "2.7.6"
  }
 },
 "nbformat": 4,
 "nbformat_minor": 0
}