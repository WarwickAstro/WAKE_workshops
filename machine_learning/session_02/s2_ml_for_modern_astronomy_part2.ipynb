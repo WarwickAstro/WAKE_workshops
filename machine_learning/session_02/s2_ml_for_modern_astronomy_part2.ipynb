{
 "cells": [
  {
   "cell_type": "markdown",
   "source": [
    "Part 2: Multi-label classification, imbalanced learning, and more\n",
    "----\n",
    "Not all classification tasks in astronomy can neatly be reduced to binary classification problems, and we limit the predictive power of our models by doing so. In this notebook we'll tackle a more complex example, using the same dataset downloaded in Part 1.\n",
    "\n",
    "Elements covered here:\n",
    "- Imbalanced learning: how to robustly train ML models on datasets with over/under-represented classes\n",
    "- Multi-label classification: how to generalise the sigmoid introduced to more complex problems."
   ],
   "metadata": {
    "collapsed": false,
    "pycharm": {
     "name": "#%% md\n"
    }
   }
  },
  {
   "cell_type": "code",
   "execution_count": 1,
   "outputs": [
    {
     "name": "stderr",
     "output_type": "stream",
     "text": [
      "2022-07-24 16:31:40.686716: I tensorflow/core/util/util.cc:169] oneDNN custom operations are on. You may see slightly different numerical results due to floating-point round-off errors from different computation orders. To turn them off, set the environment variable `TF_ENABLE_ONEDNN_OPTS=0`.\n",
      "2022-07-24 16:31:40.777016: W tensorflow/stream_executor/platform/default/dso_loader.cc:64] Could not load dynamic library 'libcudart.so.11.0'; dlerror: libcudart.so.11.0: cannot open shared object file: No such file or directory\n",
      "2022-07-24 16:31:40.777062: I tensorflow/stream_executor/cuda/cudart_stub.cc:29] Ignore above cudart dlerror if you do not have a GPU set up on your machine.\n"
     ]
    }
   ],
   "source": [
    "import tensorflow as tf\n",
    "import h5py\n",
    "import numpy as np\n",
    "import matplotlib.pyplot as plt\n",
    "from sklearn.metrics import roc_curve, roc_auc_score, confusion_matrix\n",
    "from sklearn.model_selection import train_test_split\n",
    "\n",
    "# helpful aliases to write shorter code\n",
    "tfk = tf.keras\n",
    "tfkl = tf.keras.layers"
   ],
   "metadata": {
    "collapsed": false,
    "pycharm": {
     "name": "#%%\n"
    }
   }
  },
  {
   "cell_type": "code",
   "execution_count": 2,
   "outputs": [],
   "source": [
    "# Load data into memory\n",
    "\n",
    "with h5py.File(\"../data/Galaxy10.h5\", \"r\") as data:\n",
    "    images = np.array(data[\"images\"])\n",
    "    labels = np.array(data[\"ans\"])\n",
    "\n",
    "class_label_map = {\n",
    "    \"0\": \"Disk, Face-on, No Spiral\",\n",
    "    \"1\": \"Smooth, Completely round\",\n",
    "    \"2\": \"Smooth, in-between round\",\n",
    "    \"3\": \"Smooth, Cigar shaped\",\n",
    "    \"4\": \"Disk, Edge-on, Rounded Bulge\",\n",
    "    \"5\": \"Disk, Edge-on, Boxy Bulge\",\n",
    "    \"6\": \"Disk, Edge-on, No Bulge\",\n",
    "    \"7\": \"Disk, Face-on, Tight Spiral\",\n",
    "    \"8\": \"Disk, Face-on, Medium Spiral\",\n",
    "    \"9\": \"Disk, Face-on, Loose Spiral\",\n",
    "}"
   ],
   "metadata": {
    "collapsed": false,
    "pycharm": {
     "name": "#%%\n"
    }
   }
  },
  {
   "cell_type": "code",
   "execution_count": 3,
   "outputs": [],
   "source": [
    "normpoint = images.max() / 2\n",
    "array_sharded = np.array_split(images, 100, axis=0)\n",
    "images = np.concatenate([(a - normpoint)/normpoint for a in array_sharded])"
   ],
   "metadata": {
    "collapsed": false,
    "pycharm": {
     "name": "#%%\n"
    }
   }
  },
  {
   "cell_type": "markdown",
   "source": [
    "One-hot encoding\n",
    "---\n",
    "We're now going to predict multiple classes each with their own probability, so we need to do some reformatting of our labels - we'll use a 'one-hot' encoding. The output will be a vector `(n_classes, )` in dimension, being zero in all entries apart from one, that corresponds to the given class."
   ],
   "metadata": {
    "collapsed": false,
    "pycharm": {
     "name": "#%% md\n"
    }
   }
  },
  {
   "cell_type": "code",
   "execution_count": 4,
   "outputs": [],
   "source": [
    "onehot_labels = tf.keras.utils.to_categorical(labels)\n",
    "n_classes = onehot_labels.shape[1]"
   ],
   "metadata": {
    "collapsed": false,
    "pycharm": {
     "name": "#%%\n"
    }
   }
  },
  {
   "cell_type": "markdown",
   "source": [
    "Proceeding as before"
   ],
   "metadata": {
    "collapsed": false,
    "pycharm": {
     "name": "#%% md\n"
    }
   }
  },
  {
   "cell_type": "code",
   "execution_count": 5,
   "outputs": [
    {
     "name": "stdout",
     "output_type": "stream",
     "text": [
      "train  : 17428\n",
      "val    : 2179\n",
      "test   : 2178\n"
     ]
    }
   ],
   "source": [
    "# Pick your own seed!\n",
    "random_seed = 42\n",
    "\n",
    "# 80% of images for training on, 10% as test, 10% as validation\n",
    "images_train, images_test, labels_train, labels_test = train_test_split(\n",
    "    images, onehot_labels, test_size=0.2, random_state=42\n",
    ")\n",
    "images_test, images_val, labels_test, labels_val = train_test_split(\n",
    "    images_test, labels_test, test_size=0.5, random_state=42\n",
    ")\n",
    "\n",
    "for data, name in zip(\n",
    "    [images_train, images_val, images_test], [\"train\", \"val\", \"test\"]\n",
    "):\n",
    "    print(f\"{name.ljust(7)}: {len(data)}\")"
   ],
   "metadata": {
    "collapsed": false,
    "pycharm": {
     "name": "#%%\n"
    }
   }
  },
  {
   "cell_type": "code",
   "execution_count": 6,
   "outputs": [
    {
     "name": "stdout",
     "output_type": "stream",
     "text": [
      "Model: \"sequential\"\n",
      "_________________________________________________________________\n",
      " Layer (type)                Output Shape              Param #   \n",
      "=================================================================\n",
      " conv1 (Conv2D)              (None, 67, 67, 8)         224       \n",
      "                                                                 \n",
      " conv2 (Conv2D)              (None, 65, 65, 8)         584       \n",
      "                                                                 \n",
      " max_pooling2d (MaxPooling2D  (None, 16, 16, 8)        0         \n",
      " )                                                               \n",
      "                                                                 \n",
      " conv3 (Conv2D)              (None, 14, 14, 16)        1168      \n",
      "                                                                 \n",
      " conv4 (Conv2D)              (None, 12, 12, 16)        2320      \n",
      "                                                                 \n",
      " max_pooling2d_1 (MaxPooling  (None, 3, 3, 16)         0         \n",
      " 2D)                                                             \n",
      "                                                                 \n",
      " flatten (Flatten)           (None, 144)               0         \n",
      "                                                                 \n",
      " fc_1 (Dense)                (None, 64)                9280      \n",
      "                                                                 \n",
      " output (Dense)              (None, 10)                650       \n",
      "                                                                 \n",
      "=================================================================\n",
      "Total params: 14,226\n",
      "Trainable params: 14,226\n",
      "Non-trainable params: 0\n",
      "_________________________________________________________________\n"
     ]
    },
    {
     "name": "stderr",
     "output_type": "stream",
     "text": [
      "2022-07-24 16:32:21.930804: W tensorflow/stream_executor/platform/default/dso_loader.cc:64] Could not load dynamic library 'libcuda.so.1'; dlerror: libcuda.so.1: cannot open shared object file: No such file or directory\n",
      "2022-07-24 16:32:21.930907: W tensorflow/stream_executor/cuda/cuda_driver.cc:269] failed call to cuInit: UNKNOWN ERROR (303)\n",
      "2022-07-24 16:32:21.930951: I tensorflow/stream_executor/cuda/cuda_diagnostics.cc:156] kernel driver does not appear to be running on this host (ragnarok): /proc/driver/nvidia/version does not exist\n",
      "2022-07-24 16:32:21.931983: I tensorflow/core/platform/cpu_feature_guard.cc:193] This TensorFlow binary is optimized with oneAPI Deep Neural Network Library (oneDNN) to use the following CPU instructions in performance-critical operations:  AVX2 AVX512F AVX512_VNNI FMA\n",
      "To enable them in other operations, rebuild TensorFlow with the appropriate compiler flags.\n"
     ]
    }
   ],
   "source": [
    "model = tfk.Sequential(\n",
    "    [\n",
    "        tfkl.Conv2D(8, (3, 3), activation=\"relu\", name=\"conv1\", input_shape=images.shape[1:]),\n",
    "        tfkl.Conv2D(8, (3, 3), activation=\"relu\", name=\"conv2\"),\n",
    "        tfkl.MaxPooling2D(pool_size=(4, 4), padding='valid'),\n",
    "        tfkl.Conv2D(16, (3, 3), activation=\"relu\", name=\"conv3\"),\n",
    "        tfkl.Conv2D(16, (3, 3), activation=\"relu\", name=\"conv4\"),\n",
    "        tfkl.MaxPooling2D((4, 4), padding='valid'),\n",
    "        tfkl.Flatten(),\n",
    "        tfkl.Dense(64, activation='relu', name='fc_1'),\n",
    "        tfkl.Dense(n_classes, activation='softmax', name='output')\n",
    "\n",
    "    ]\n",
    ")\n",
    "\n",
    "model.summary()\n",
    "\n",
    "# optimiser: let's use Adam with `learning_rate` = 3e-4. Why not try a different one from https://www.tensorflow.org/api_docs/python/tf/keras/optimizers\n",
    "optim = tfk.optimizers.Adam(learning_rate=3e-4)\n",
    "\n",
    "# loss: binary classification problem, so binary cross-entropy is the way to go. See s1_linearmodelstoml for an introduction to this.\n",
    "loss = tfk.losses.CategoricalCrossentropy()\n",
    "\n",
    "# metrics: as humans the Accuracy is probably our first thought! But there's a full range of metrics available at https://www.tensorflow.org/api_docs/python/tf/keras/metrics.\n",
    "# why not try swapping in/adding Precision, Recall, KLDivergence etc.\n",
    "metrics = [tfk.metrics.CategoricalAccuracy(), tfk.metrics.AUC()]\n",
    "\n",
    "model.compile(optimizer=optim, loss=loss, metrics=metrics)"
   ],
   "metadata": {
    "collapsed": false,
    "pycharm": {
     "name": "#%%\n"
    }
   }
  },
  {
   "cell_type": "markdown",
   "source": [
    "The joy of ML frameworks: we can reuse almost all of the code from our binary example, with a few switches to change the output layer to accomodate this."
   ],
   "metadata": {
    "collapsed": false,
    "pycharm": {
     "name": "#%% md\n"
    }
   }
  },
  {
   "cell_type": "code",
   "execution_count": 7,
   "outputs": [
    {
     "name": "stdout",
     "output_type": "stream",
     "text": [
      "Epoch 1/30\n",
      "545/545 [==============================] - 17s 27ms/step - loss: 1.6579 - categorical_accuracy: 0.3553 - auc: 0.8394 - val_loss: 1.4311 - val_categorical_accuracy: 0.4621 - val_auc: 0.8886\n",
      "Epoch 2/30\n",
      "545/545 [==============================] - 14s 26ms/step - loss: 1.2871 - categorical_accuracy: 0.5164 - auc: 0.9075 - val_loss: 1.2109 - val_categorical_accuracy: 0.5034 - val_auc: 0.9212\n",
      "Epoch 3/30\n",
      "545/545 [==============================] - 14s 26ms/step - loss: 1.0772 - categorical_accuracy: 0.6027 - auc: 0.9352 - val_loss: 1.0000 - val_categorical_accuracy: 0.6420 - val_auc: 0.9450\n",
      "Epoch 4/30\n",
      "545/545 [==============================] - 14s 26ms/step - loss: 0.9818 - categorical_accuracy: 0.6413 - auc: 0.9458 - val_loss: 0.9253 - val_categorical_accuracy: 0.6531 - val_auc: 0.9517\n",
      "Epoch 5/30\n",
      "545/545 [==============================] - 14s 26ms/step - loss: 0.9224 - categorical_accuracy: 0.6682 - auc: 0.9519 - val_loss: 0.8677 - val_categorical_accuracy: 0.6971 - val_auc: 0.9576\n",
      "Epoch 6/30\n",
      "545/545 [==============================] - 14s 25ms/step - loss: 0.8779 - categorical_accuracy: 0.6833 - auc: 0.9563 - val_loss: 0.8348 - val_categorical_accuracy: 0.7003 - val_auc: 0.9606\n",
      "Epoch 7/30\n",
      "545/545 [==============================] - 14s 25ms/step - loss: 0.8546 - categorical_accuracy: 0.6889 - auc: 0.9583 - val_loss: 0.8557 - val_categorical_accuracy: 0.6902 - val_auc: 0.9583\n",
      "Epoch 8/30\n",
      "545/545 [==============================] - 14s 26ms/step - loss: 0.8267 - categorical_accuracy: 0.7001 - auc: 0.9609 - val_loss: 0.7991 - val_categorical_accuracy: 0.7214 - val_auc: 0.9632\n",
      "Epoch 9/30\n",
      "545/545 [==============================] - 15s 27ms/step - loss: 0.8055 - categorical_accuracy: 0.7054 - auc: 0.9629 - val_loss: 0.7881 - val_categorical_accuracy: 0.7159 - val_auc: 0.9641\n",
      "Epoch 10/30\n",
      "545/545 [==============================] - 16s 29ms/step - loss: 0.7829 - categorical_accuracy: 0.7145 - auc: 0.9648 - val_loss: 0.7685 - val_categorical_accuracy: 0.7150 - val_auc: 0.9661\n",
      "Epoch 11/30\n",
      "545/545 [==============================] - 14s 26ms/step - loss: 0.7692 - categorical_accuracy: 0.7196 - auc: 0.9660 - val_loss: 0.7905 - val_categorical_accuracy: 0.7132 - val_auc: 0.9646\n",
      "Epoch 12/30\n",
      "545/545 [==============================] - 15s 28ms/step - loss: 0.7508 - categorical_accuracy: 0.7255 - auc: 0.9677 - val_loss: 0.7858 - val_categorical_accuracy: 0.7141 - val_auc: 0.9648\n",
      "Epoch 13/30\n",
      "545/545 [==============================] - 16s 29ms/step - loss: 0.7388 - categorical_accuracy: 0.7273 - auc: 0.9684 - val_loss: 0.7354 - val_categorical_accuracy: 0.7389 - val_auc: 0.9685\n",
      "Epoch 14/30\n",
      "545/545 [==============================] - 16s 29ms/step - loss: 0.7268 - categorical_accuracy: 0.7304 - auc: 0.9697 - val_loss: 0.7427 - val_categorical_accuracy: 0.7292 - val_auc: 0.9682\n",
      "Epoch 15/30\n",
      "545/545 [==============================] - 17s 30ms/step - loss: 0.7208 - categorical_accuracy: 0.7305 - auc: 0.9700 - val_loss: 0.7657 - val_categorical_accuracy: 0.7201 - val_auc: 0.9659\n",
      "Epoch 16/30\n",
      "545/545 [==============================] - 16s 30ms/step - loss: 0.7038 - categorical_accuracy: 0.7379 - auc: 0.9714 - val_loss: 0.7682 - val_categorical_accuracy: 0.7159 - val_auc: 0.9659\n",
      "Epoch 17/30\n",
      "545/545 [==============================] - 16s 29ms/step - loss: 0.6997 - categorical_accuracy: 0.7415 - auc: 0.9716 - val_loss: 0.7524 - val_categorical_accuracy: 0.7279 - val_auc: 0.9670\n",
      "Epoch 18/30\n",
      "545/545 [==============================] - 15s 27ms/step - loss: 0.6894 - categorical_accuracy: 0.7444 - auc: 0.9724 - val_loss: 0.7247 - val_categorical_accuracy: 0.7302 - val_auc: 0.9695\n",
      "Epoch 19/30\n",
      "545/545 [==============================] - 15s 28ms/step - loss: 0.6789 - categorical_accuracy: 0.7449 - auc: 0.9734 - val_loss: 0.7139 - val_categorical_accuracy: 0.7430 - val_auc: 0.9700\n",
      "Epoch 20/30\n",
      "545/545 [==============================] - 15s 28ms/step - loss: 0.6708 - categorical_accuracy: 0.7540 - auc: 0.9738 - val_loss: 0.7353 - val_categorical_accuracy: 0.7389 - val_auc: 0.9687\n",
      "Epoch 21/30\n",
      "545/545 [==============================] - 16s 29ms/step - loss: 0.6660 - categorical_accuracy: 0.7531 - auc: 0.9742 - val_loss: 0.7070 - val_categorical_accuracy: 0.7458 - val_auc: 0.9709\n",
      "Epoch 22/30\n",
      "545/545 [==============================] - 15s 27ms/step - loss: 0.6612 - categorical_accuracy: 0.7553 - auc: 0.9742 - val_loss: 0.7677 - val_categorical_accuracy: 0.7063 - val_auc: 0.9660\n",
      "Epoch 23/30\n",
      "545/545 [==============================] - 15s 28ms/step - loss: 0.6458 - categorical_accuracy: 0.7637 - auc: 0.9755 - val_loss: 0.7008 - val_categorical_accuracy: 0.7458 - val_auc: 0.9715\n",
      "Epoch 24/30\n",
      "545/545 [==============================] - 15s 27ms/step - loss: 0.6381 - categorical_accuracy: 0.7624 - auc: 0.9761 - val_loss: 0.6952 - val_categorical_accuracy: 0.7467 - val_auc: 0.9722\n",
      "Epoch 25/30\n",
      "545/545 [==============================] - 15s 27ms/step - loss: 0.6386 - categorical_accuracy: 0.7634 - auc: 0.9762 - val_loss: 0.6870 - val_categorical_accuracy: 0.7522 - val_auc: 0.9722\n",
      "Epoch 26/30\n",
      "545/545 [==============================] - 16s 29ms/step - loss: 0.6367 - categorical_accuracy: 0.7643 - auc: 0.9762 - val_loss: 0.6786 - val_categorical_accuracy: 0.7600 - val_auc: 0.9733\n",
      "Epoch 27/30\n",
      "545/545 [==============================] - 17s 32ms/step - loss: 0.6224 - categorical_accuracy: 0.7692 - auc: 0.9772 - val_loss: 0.6808 - val_categorical_accuracy: 0.7591 - val_auc: 0.9726\n",
      "Epoch 28/30\n",
      "545/545 [==============================] - 21s 38ms/step - loss: 0.6206 - categorical_accuracy: 0.7682 - auc: 0.9773 - val_loss: 0.7022 - val_categorical_accuracy: 0.7467 - val_auc: 0.9709\n",
      "Epoch 29/30\n",
      "545/545 [==============================] - 22s 40ms/step - loss: 0.6134 - categorical_accuracy: 0.7723 - auc: 0.9778 - val_loss: 0.7171 - val_categorical_accuracy: 0.7389 - val_auc: 0.9701\n",
      "Epoch 30/30\n",
      "545/545 [==============================] - 21s 39ms/step - loss: 0.6059 - categorical_accuracy: 0.7761 - auc: 0.9785 - val_loss: 0.6846 - val_categorical_accuracy: 0.7568 - val_auc: 0.9732\n"
     ]
    }
   ],
   "source": [
    "history = model.fit(x=images_train, y=labels_train, batch_size=32, verbose=1, validation_data=(images_val, labels_val), shuffle=True, epochs=30)"
   ],
   "metadata": {
    "collapsed": false,
    "pycharm": {
     "name": "#%%\n"
    }
   }
  },
  {
   "cell_type": "code",
   "execution_count": 8,
   "outputs": [],
   "source": [
    "train_metrics = history.history"
   ],
   "metadata": {
    "collapsed": false,
    "pycharm": {
     "name": "#%%\n"
    }
   }
  },
  {
   "cell_type": "code",
   "execution_count": 9,
   "outputs": [
    {
     "data": {
      "text/plain": "<Figure size 432x288 with 1 Axes>",
      "image/png": "[encoded data removed]"
     },
     "metadata": {
      "needs_background": "light"
     },
     "output_type": "display_data"
    },
    {
     "data": {
      "text/plain": "<Figure size 432x288 with 1 Axes>",
      "image/png": "[encoded data removed]"
     },
     "metadata": {
      "needs_background": "light"
     },
     "output_type": "display_data"
    }
   ],
   "source": [
    "plt.plot(train_metrics['loss'], label='train')\n",
    "plt.plot(train_metrics['val_loss'], label='val')\n",
    "plt.legend()\n",
    "plt.xlabel(\"Epochs\")\n",
    "plt.ylabel(\"Loss\")\n",
    "plt.show()\n",
    "\n",
    "plt.plot(train_metrics['categorical_accuracy'], label='train')\n",
    "plt.plot(train_metrics['val_categorical_accuracy'], label='val')\n",
    "plt.legend()\n",
    "plt.xlabel(\"Epochs\")\n",
    "plt.ylabel(\"Accuracy\")\n",
    "plt.show()"
   ],
   "metadata": {
    "collapsed": false,
    "pycharm": {
     "name": "#%%\n"
    }
   }
  },
  {
   "cell_type": "markdown",
   "source": [
    "The rest is up to you! Can you adapt the metrics from the previous notebook to work here? Maybe you want to try computing the entropy for a multi-class case?"
   ],
   "metadata": {
    "collapsed": false,
    "pycharm": {
     "name": "#%% md\n"
    }
   }
  }
 ],
 "metadata": {
  "kernelspec": {
   "display_name": "Python 3",
   "language": "python",
   "name": "python3"
  },
  "language_info": {
   "codemirror_mode": {
    "name": "ipython",
    "version": 2
   },
   "file_extension": ".py",
   "mimetype": "text/x-python",
   "name": "python",
   "nbconvert_exporter": "python",
   "pygments_lexer": "ipython2",
   "version": "2.7.6"
  }
 },
 "nbformat": 4,
 "nbformat_minor": 0
}