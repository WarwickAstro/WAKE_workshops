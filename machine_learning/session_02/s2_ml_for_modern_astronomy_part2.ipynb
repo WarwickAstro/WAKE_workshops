{
 "cells": [
  {
   "cell_type": "markdown",
   "source": [
    "Part 2: Multi-label classification, imbalanced learning, and more\n",
    "----\n",
    "Not all classification tasks in astronomy can neatly be reduced to binary classification problems, and we limit the predictive power of our models by doing so. In this notebook we'll tackle a more complex example, using the same dataset downloaded in Part 1.\n",
    "\n",
    "Elements covered here:\n",
    "- Imbalanced learning: how to robustly train ML models on datasets with over/under-represented classes\n",
    "- Multi-label classification: how to generalise the sigmoid introduced to more complex problems."
   ],
   "metadata": {
    "collapsed": false,
    "pycharm": {
     "name": "#%% md\n"
    }
   }
  },
  {
   "cell_type": "code",
   "execution_count": 1,
   "outputs": [
    {
     "name": "stderr",
     "output_type": "stream",
     "text": [
      "2022-07-21 16:51:07.991184: I tensorflow/core/util/util.cc:169] oneDNN custom operations are on. You may see slightly different numerical results due to floating-point round-off errors from different computation orders. To turn them off, set the environment variable `TF_ENABLE_ONEDNN_OPTS=0`.\n",
      "2022-07-21 16:51:08.047593: W tensorflow/stream_executor/platform/default/dso_loader.cc:64] Could not load dynamic library 'libcudart.so.11.0'; dlerror: libcudart.so.11.0: cannot open shared object file: No such file or directory\n",
      "2022-07-21 16:51:08.047620: I tensorflow/stream_executor/cuda/cudart_stub.cc:29] Ignore above cudart dlerror if you do not have a GPU set up on your machine.\n"
     ]
    }
   ],
   "source": [
    "import tensorflow as tf\n",
    "import h5py\n",
    "import numpy as np\n",
    "import matplotlib.pyplot as plt\n",
    "from sklearn.metrics import roc_curve, roc_auc_score, confusion_matrix\n",
    "from sklearn.model_selection import train_test_split\n",
    "\n",
    "# helpful aliases to write shorter code\n",
    "tfk = tf.keras\n",
    "tfkl = tf.keras.layers"
   ],
   "metadata": {
    "collapsed": false,
    "pycharm": {
     "name": "#%%\n"
    }
   }
  },
  {
   "cell_type": "code",
   "execution_count": null,
   "outputs": [],
   "source": [
    "# Load data into memory\n",
    "\n",
    "with h5py.File(\"../data/Galaxy10.h5\", \"r\") as data:\n",
    "    images = np.array(data[\"images\"])\n",
    "    labels = np.array(data[\"ans\"])\n",
    "\n",
    "class_label_map = {\n",
    "    \"0\": \"Disk, Face-on, No Spiral\",\n",
    "    \"1\": \"Smooth, Completely round\",\n",
    "    \"2\": \"Smooth, in-between round\",\n",
    "    \"3\": \"Smooth, Cigar shaped\",\n",
    "    \"4\": \"Disk, Edge-on, Rounded Bulge\",\n",
    "    \"5\": \"Disk, Edge-on, Boxy Bulge\",\n",
    "    \"6\": \"Disk, Edge-on, No Bulge\",\n",
    "    \"7\": \"Disk, Face-on, Tight Spiral\",\n",
    "    \"8\": \"Disk, Face-on, Medium Spiral\",\n",
    "    \"9\": \"Disk, Face-on, Loose Spiral\",\n",
    "}"
   ],
   "metadata": {
    "collapsed": false,
    "pycharm": {
     "name": "#%%\n"
    }
   }
  }
 ],
 "metadata": {
  "kernelspec": {
   "display_name": "Python 3",
   "language": "python",
   "name": "python3"
  },
  "language_info": {
   "codemirror_mode": {
    "name": "ipython",
    "version": 2
   },
   "file_extension": ".py",
   "mimetype": "text/x-python",
   "name": "python",
   "nbconvert_exporter": "python",
   "pygments_lexer": "ipython2",
   "version": "2.7.6"
  }
 },
 "nbformat": 4,
 "nbformat_minor": 0
}